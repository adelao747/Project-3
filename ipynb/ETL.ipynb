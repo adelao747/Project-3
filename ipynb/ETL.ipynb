{
 "cells": [
  {
   "cell_type": "code",
   "execution_count": 1,
   "id": "4c34dda7-8202-48eb-b1f3-d05f00b496a4",
   "metadata": {},
   "outputs": [],
   "source": [
    "import pandas as pd"
   ]
  },
  {
   "cell_type": "code",
   "execution_count": 15,
   "id": "89edfbe0-9110-4752-b2ba-7929e89277be",
   "metadata": {},
   "outputs": [
    {
     "data": {
      "text/html": [
       "<div>\n",
       "<style scoped>\n",
       "    .dataframe tbody tr th:only-of-type {\n",
       "        vertical-align: middle;\n",
       "    }\n",
       "\n",
       "    .dataframe tbody tr th {\n",
       "        vertical-align: top;\n",
       "    }\n",
       "\n",
       "    .dataframe thead th {\n",
       "        text-align: right;\n",
       "    }\n",
       "</style>\n",
       "<table border=\"1\" class=\"dataframe\">\n",
       "  <thead>\n",
       "    <tr style=\"text-align: right;\">\n",
       "      <th></th>\n",
       "      <th>year</th>\n",
       "      <th>coordinates</th>\n",
       "    </tr>\n",
       "  </thead>\n",
       "  <tbody>\n",
       "    <tr>\n",
       "      <th>0</th>\n",
       "      <td>2015</td>\n",
       "      <td>(-122.422595 37.778775)</td>\n",
       "    </tr>\n",
       "    <tr>\n",
       "      <th>1</th>\n",
       "      <td>2015</td>\n",
       "      <td>(-122.411293 37.785387)</td>\n",
       "    </tr>\n",
       "    <tr>\n",
       "      <th>2</th>\n",
       "      <td>2015</td>\n",
       "      <td>(-122.435771 37.762457)</td>\n",
       "    </tr>\n",
       "    <tr>\n",
       "      <th>3</th>\n",
       "      <td>2015</td>\n",
       "      <td>(-122.407004 37.770049)</td>\n",
       "    </tr>\n",
       "    <tr>\n",
       "      <th>4</th>\n",
       "      <td>2015</td>\n",
       "      <td>(-122.413057 37.777636)</td>\n",
       "    </tr>\n",
       "  </tbody>\n",
       "</table>\n",
       "</div>"
      ],
      "text/plain": [
       "   year               coordinates\n",
       "0  2015   (-122.422595 37.778775)\n",
       "1  2015   (-122.411293 37.785387)\n",
       "2  2015   (-122.435771 37.762457)\n",
       "3  2015   (-122.407004 37.770049)\n",
       "4  2015   (-122.413057 37.777636)"
      ]
     },
     "execution_count": 15,
     "metadata": {},
     "output_type": "execute_result"
    }
   ],
   "source": [
    "df=pd.read_csv('Resources/SF_Fires.csv')\n",
    "df.head()"
   ]
  },
  {
   "cell_type": "code",
   "execution_count": 16,
   "id": "0e442d72-736d-48cc-8ffe-24a1db03d6d4",
   "metadata": {},
   "outputs": [],
   "source": [
    "df=df.dropna()"
   ]
  },
  {
   "cell_type": "code",
   "execution_count": 17,
   "id": "d3469a5d-2af3-40f1-b417-6588291761b5",
   "metadata": {},
   "outputs": [],
   "source": [
    "df['year']=df['year'].astype('str')"
   ]
  },
  {
   "cell_type": "code",
   "execution_count": 18,
   "id": "17afb46f-73b8-4316-a1ba-c2c25cedd94f",
   "metadata": {},
   "outputs": [],
   "source": [
    "for idx, row in df.iterrows(): \n",
    "    row['coordinates']=row['coordinates'].replace(' (', '').replace(')', '')\n",
    "    lon, lat=row['coordinates'].split(' ')\n",
    "    df.loc[idx, 'lat']=lat\n",
    "    df.loc[idx, 'lon']=lon"
   ]
  },
  {
   "cell_type": "code",
   "execution_count": 9,
   "id": "f352efc0-177a-4657-ac3d-ecc10322f7b4",
   "metadata": {},
   "outputs": [
    {
     "data": {
      "text/html": [
       "<div>\n",
       "<style scoped>\n",
       "    .dataframe tbody tr th:only-of-type {\n",
       "        vertical-align: middle;\n",
       "    }\n",
       "\n",
       "    .dataframe tbody tr th {\n",
       "        vertical-align: top;\n",
       "    }\n",
       "\n",
       "    .dataframe thead th {\n",
       "        text-align: right;\n",
       "    }\n",
       "</style>\n",
       "<table border=\"1\" class=\"dataframe\">\n",
       "  <thead>\n",
       "    <tr style=\"text-align: right;\">\n",
       "      <th></th>\n",
       "      <th>year</th>\n",
       "      <th>coordinates</th>\n",
       "      <th>lat</th>\n",
       "      <th>lon</th>\n",
       "    </tr>\n",
       "  </thead>\n",
       "  <tbody>\n",
       "    <tr>\n",
       "      <th>0</th>\n",
       "      <td>2015</td>\n",
       "      <td>(-122.422595 37.778775)</td>\n",
       "      <td>37.778775</td>\n",
       "      <td>-122.422595</td>\n",
       "    </tr>\n",
       "    <tr>\n",
       "      <th>1</th>\n",
       "      <td>2015</td>\n",
       "      <td>(-122.411293 37.785387)</td>\n",
       "      <td>37.785387</td>\n",
       "      <td>-122.411293</td>\n",
       "    </tr>\n",
       "    <tr>\n",
       "      <th>2</th>\n",
       "      <td>2015</td>\n",
       "      <td>(-122.435771 37.762457)</td>\n",
       "      <td>37.762457</td>\n",
       "      <td>-122.435771</td>\n",
       "    </tr>\n",
       "    <tr>\n",
       "      <th>3</th>\n",
       "      <td>2015</td>\n",
       "      <td>(-122.407004 37.770049)</td>\n",
       "      <td>37.770049</td>\n",
       "      <td>-122.407004</td>\n",
       "    </tr>\n",
       "    <tr>\n",
       "      <th>4</th>\n",
       "      <td>2015</td>\n",
       "      <td>(-122.413057 37.777636)</td>\n",
       "      <td>37.777636</td>\n",
       "      <td>-122.413057</td>\n",
       "    </tr>\n",
       "  </tbody>\n",
       "</table>\n",
       "</div>"
      ],
      "text/plain": [
       "   year               coordinates        lat          lon\n",
       "0  2015   (-122.422595 37.778775)  37.778775  -122.422595\n",
       "1  2015   (-122.411293 37.785387)  37.785387  -122.411293\n",
       "2  2015   (-122.435771 37.762457)  37.762457  -122.435771\n",
       "3  2015   (-122.407004 37.770049)  37.770049  -122.407004\n",
       "4  2015   (-122.413057 37.777636)  37.777636  -122.413057"
      ]
     },
     "execution_count": 9,
     "metadata": {},
     "output_type": "execute_result"
    }
   ],
   "source": [
    "df.head()"
   ]
  },
  {
   "cell_type": "code",
   "execution_count": 19,
   "id": "b1676f8e-e05e-4668-88e4-537f718359be",
   "metadata": {},
   "outputs": [
    {
     "data": {
      "text/html": [
       "<div>\n",
       "<style scoped>\n",
       "    .dataframe tbody tr th:only-of-type {\n",
       "        vertical-align: middle;\n",
       "    }\n",
       "\n",
       "    .dataframe tbody tr th {\n",
       "        vertical-align: top;\n",
       "    }\n",
       "\n",
       "    .dataframe thead th {\n",
       "        text-align: right;\n",
       "    }\n",
       "</style>\n",
       "<table border=\"1\" class=\"dataframe\">\n",
       "  <thead>\n",
       "    <tr style=\"text-align: right;\">\n",
       "      <th></th>\n",
       "      <th>year</th>\n",
       "      <th>coordinates</th>\n",
       "      <th>lat</th>\n",
       "      <th>lon</th>\n",
       "    </tr>\n",
       "  </thead>\n",
       "  <tbody>\n",
       "    <tr>\n",
       "      <th>128952</th>\n",
       "      <td>2019</td>\n",
       "      <td>-122.413355 37.788082</td>\n",
       "      <td>37.788082</td>\n",
       "      <td>-122.413355</td>\n",
       "    </tr>\n",
       "    <tr>\n",
       "      <th>128953</th>\n",
       "      <td>2019</td>\n",
       "      <td>-122.411992 37.785035</td>\n",
       "      <td>37.785035</td>\n",
       "      <td>-122.411992</td>\n",
       "    </tr>\n",
       "    <tr>\n",
       "      <th>128954</th>\n",
       "      <td>2019</td>\n",
       "      <td>-122.46785 37.782859</td>\n",
       "      <td>37.782859</td>\n",
       "      <td>-122.46785</td>\n",
       "    </tr>\n",
       "    <tr>\n",
       "      <th>128955</th>\n",
       "      <td>2019</td>\n",
       "      <td>-122.403637 37.788256</td>\n",
       "      <td>37.788256</td>\n",
       "      <td>-122.403637</td>\n",
       "    </tr>\n",
       "    <tr>\n",
       "      <th>128957</th>\n",
       "      <td>2019</td>\n",
       "      <td>-122.41409 37.784771</td>\n",
       "      <td>37.784771</td>\n",
       "      <td>-122.41409</td>\n",
       "    </tr>\n",
       "    <tr>\n",
       "      <th>...</th>\n",
       "      <td>...</td>\n",
       "      <td>...</td>\n",
       "      <td>...</td>\n",
       "      <td>...</td>\n",
       "    </tr>\n",
       "    <tr>\n",
       "      <th>162204</th>\n",
       "      <td>2019</td>\n",
       "      <td>-122.4443 37.799124</td>\n",
       "      <td>37.799124</td>\n",
       "      <td>-122.4443</td>\n",
       "    </tr>\n",
       "    <tr>\n",
       "      <th>162205</th>\n",
       "      <td>2019</td>\n",
       "      <td>-122.398453 37.79147</td>\n",
       "      <td>37.79147</td>\n",
       "      <td>-122.398453</td>\n",
       "    </tr>\n",
       "    <tr>\n",
       "      <th>162206</th>\n",
       "      <td>2019</td>\n",
       "      <td>-122.388204 37.741891</td>\n",
       "      <td>37.741891</td>\n",
       "      <td>-122.388204</td>\n",
       "    </tr>\n",
       "    <tr>\n",
       "      <th>162207</th>\n",
       "      <td>2019</td>\n",
       "      <td>-122.398697 37.741126</td>\n",
       "      <td>37.741126</td>\n",
       "      <td>-122.398697</td>\n",
       "    </tr>\n",
       "    <tr>\n",
       "      <th>162208</th>\n",
       "      <td>2019</td>\n",
       "      <td>-122.502589 37.779452</td>\n",
       "      <td>37.779452</td>\n",
       "      <td>-122.502589</td>\n",
       "    </tr>\n",
       "  </tbody>\n",
       "</table>\n",
       "<p>33235 rows × 4 columns</p>\n",
       "</div>"
      ],
      "text/plain": [
       "        year            coordinates        lat          lon\n",
       "128952  2019  -122.413355 37.788082  37.788082  -122.413355\n",
       "128953  2019  -122.411992 37.785035  37.785035  -122.411992\n",
       "128954  2019   -122.46785 37.782859  37.782859   -122.46785\n",
       "128955  2019  -122.403637 37.788256  37.788256  -122.403637\n",
       "128957  2019   -122.41409 37.784771  37.784771   -122.41409\n",
       "...      ...                    ...        ...          ...\n",
       "162204  2019    -122.4443 37.799124  37.799124    -122.4443\n",
       "162205  2019   -122.398453 37.79147   37.79147  -122.398453\n",
       "162206  2019  -122.388204 37.741891  37.741891  -122.388204\n",
       "162207  2019  -122.398697 37.741126  37.741126  -122.398697\n",
       "162208  2019  -122.502589 37.779452  37.779452  -122.502589\n",
       "\n",
       "[33235 rows x 4 columns]"
      ]
     },
     "execution_count": 19,
     "metadata": {},
     "output_type": "execute_result"
    }
   ],
   "source": [
    "df[df['year']=='2019']"
   ]
  },
  {
   "cell_type": "code",
   "execution_count": 20,
   "id": "235a6d12-921c-4da6-b68c-9e9fe16b3ce7",
   "metadata": {},
   "outputs": [
    {
     "data": {
      "text/plain": [
       "year\n",
       "2015    31702\n",
       "2016    32229\n",
       "2017    32303\n",
       "2018    32663\n",
       "2019    33235\n",
       "2020    29835\n",
       "2021    31235\n",
       "2022    33782\n",
       "2023     8035\n",
       "dtype: int64"
      ]
     },
     "execution_count": 20,
     "metadata": {},
     "output_type": "execute_result"
    }
   ],
   "source": [
    "df.groupby('year').size()"
   ]
  },
  {
   "cell_type": "code",
   "execution_count": 21,
   "id": "662f05a2-00e1-48f6-96fb-b8e6546083db",
   "metadata": {},
   "outputs": [],
   "source": [
    "df.to_csv('Resources/clean_data.csv', index=False)"
   ]
  },
  {
   "cell_type": "code",
   "execution_count": null,
   "id": "89862e79-958f-4414-bf20-2c2e5e8c5edc",
   "metadata": {},
   "outputs": [],
   "source": []
  }
 ],
 "metadata": {
  "kernelspec": {
   "display_name": "Python 3 (ipykernel)",
   "language": "python",
   "name": "python3"
  },
  "language_info": {
   "codemirror_mode": {
    "name": "ipython",
    "version": 3
   },
   "file_extension": ".py",
   "mimetype": "text/x-python",
   "name": "python",
   "nbconvert_exporter": "python",
   "pygments_lexer": "ipython3",
   "version": "3.9.12"
  }
 },
 "nbformat": 4,
 "nbformat_minor": 5
}
